{
 "cells": [
  {
   "cell_type": "markdown",
   "id": "f7f93216",
   "metadata": {},
   "source": [
    "1. Write a program that accepts a list from user and print the alternate element of list. \n"
   ]
  },
  {
   "cell_type": "code",
   "execution_count": 5,
   "id": "0a69cb18",
   "metadata": {},
   "outputs": [
    {
     "name": "stdout",
     "output_type": "stream",
     "text": [
      "enter any thing im a list12\n",
      "enter any thing im a list44\n",
      "enter any thing im a listHG\n",
      "enter any thing im a listTOM\n",
      "enter any thing im a listSAIM\n",
      "['12', 'HG', 'SAIM']\n"
     ]
    }
   ],
   "source": [
    "LIST=[]\n",
    "count=1\n",
    "while count<=5:\n",
    "    LIST.append(input(\"enter any thing im a list\"))\n",
    "    count+=1\n",
    "print(LIST[::2])"
   ]
  },
  {
   "cell_type": "markdown",
   "id": "5f447ad2",
   "metadata": {},
   "source": [
    "2. Write a program that accepts a list from user. Your program should reverse the content of list and\n",
    "display it. Do not use reverse() method. "
   ]
  },
  {
   "cell_type": "code",
   "execution_count": 8,
   "id": "9551c679",
   "metadata": {},
   "outputs": [
    {
     "name": "stdout",
     "output_type": "stream",
     "text": [
      "enter any thing im a listali\n",
      "enter any thing im a listfaraz\n",
      "enter any thing im a list18\n",
      "enter any thing im a listsaim\n",
      "enter any thing im a listsaad\n",
      "['saad', 'saim', '18', 'faraz', 'ali']\n"
     ]
    }
   ],
   "source": [
    "list2=[]\n",
    "count=1\n",
    "while count<=5:\n",
    "    list2.append(input(\"enter any thing im a list\"))\n",
    "    count+=1\n",
    "print(list2[::-1])"
   ]
  },
  {
   "cell_type": "markdown",
   "id": "e3d491ce",
   "metadata": {},
   "source": [
    "3. Find and display the largest number of a list without using built-in function max(). Your program\n",
    "should ask the user to input values in list from keyboard. \n"
   ]
  },
  {
   "cell_type": "code",
   "execution_count": 13,
   "id": "bde72cd5",
   "metadata": {},
   "outputs": [
    {
     "name": "stdout",
     "output_type": "stream",
     "text": [
      "enter any thing im a list16\n",
      "enter any thing im a list87\n",
      "enter any thing im a list24\n",
      "enter any thing im a list63\n",
      "enter any thing im a list18\n",
      "87\n"
     ]
    }
   ],
   "source": [
    "list2=[]\n",
    "count=1\n",
    "while count<=5:\n",
    "    list2.append(input(\"enter any thing im a list\"))\n",
    "    count+=1\n",
    "largest=list2[0]\n",
    "for num in list2:\n",
    "    if num >largest:\n",
    "        largest = num\n",
    "print(largest)"
   ]
  },
  {
   "cell_type": "markdown",
   "id": "f8e5614d",
   "metadata": {},
   "source": [
    "4. Write a program that rotates the element of a list so that the element at the first index moves to the\n",
    "second index, the element in the second index moves to the third index, etc., and the element in the last\n",
    "index moves to the first index. "
   ]
  },
  {
   "cell_type": "code",
   "execution_count": 2,
   "id": "0d337a51",
   "metadata": {},
   "outputs": [
    {
     "name": "stdout",
     "output_type": "stream",
     "text": [
      "['saif', 'ali', 'faraz', 'sahil', 'azeem']\n"
     ]
    }
   ],
   "source": [
    "list3=[\"ali\",\"faraz\",\"sahil\",\"azeem\",\"saif\"]\n",
    "for i in range(len(list3)-1,0,-1):\n",
    "    list3[i]=list3[i-1]\n",
    "list3[0]=\"saif\"\n",
    "print(list3)\n",
    "    "
   ]
  },
  {
   "cell_type": "markdown",
   "id": "30b5b1ed",
   "metadata": {},
   "source": [
    "5. Write a program that input a string and ask user to delete a given word from a string"
   ]
  },
  {
   "cell_type": "code",
   "execution_count": 6,
   "id": "e49c9dd6",
   "metadata": {},
   "outputs": [
    {
     "name": "stdout",
     "output_type": "stream",
     "text": [
      "enter any stringindependence is good\n",
      "do you want to delete this string yes or nogood\n",
      "updated string independence is \n"
     ]
    }
   ],
   "source": [
    "string=input(\"enter any string\")\n",
    "delete_string=input(\"do you want to delete this string yes or no\")\n",
    "resultstring=string.replace(delete_string,\"\")\n",
    "print(\"updated string\",resultstring)"
   ]
  },
  {
   "cell_type": "markdown",
   "id": "d17d4911",
   "metadata": {},
   "source": [
    "6. Write a program that reads a string from the user containing a date in the form mm/dd/yyyy. It\n",
    "should print the date in the form March 12, 2021. "
   ]
  },
  {
   "cell_type": "code",
   "execution_count": null,
   "id": "aaf7486a",
   "metadata": {},
   "outputs": [],
   "source": []
  }
 ],
 "metadata": {
  "kernelspec": {
   "display_name": "Python 3 (ipykernel)",
   "language": "python",
   "name": "python3"
  },
  "language_info": {
   "codemirror_mode": {
    "name": "ipython",
    "version": 3
   },
   "file_extension": ".py",
   "mimetype": "text/x-python",
   "name": "python",
   "nbconvert_exporter": "python",
   "pygments_lexer": "ipython3",
   "version": "3.11.5"
  }
 },
 "nbformat": 4,
 "nbformat_minor": 5
}
