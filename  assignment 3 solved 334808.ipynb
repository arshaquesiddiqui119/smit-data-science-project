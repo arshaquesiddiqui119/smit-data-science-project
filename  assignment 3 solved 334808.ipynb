{
 "cells": [
  {
   "cell_type": "code",
   "execution_count": 1,
   "id": "b2a538ed-030b-4a8b-8abd-ab948af95809",
   "metadata": {},
   "outputs": [
    {
     "name": "stdin",
     "output_type": "stream",
     "text": [
      "enter total price you are shopping 200\n"
     ]
    },
    {
     "name": "stdout",
     "output_type": "stream",
     "text": [
      "the total is 180.0\n"
     ]
    }
   ],
   "source": [
    "total = int(input('enter total price you are shopping'))\n",
    "if total>100:\n",
    "    discount = total*0.10\n",
    "    print(f\"the total is {total-discount}\")\n",
    "elif total<100:\n",
    "    print(total)"
   ]
  },
  {
   "cell_type": "code",
   "execution_count": 2,
   "id": "fe91f913-8e80-44f0-96fa-7d10b824596d",
   "metadata": {},
   "outputs": [
    {
     "name": "stdin",
     "output_type": "stream",
     "text": [
      "enter total nummber of items 6\n",
      "enter the price of item 8\n"
     ]
    },
    {
     "name": "stdout",
     "output_type": "stream",
     "text": [
      "the total price is 6.8\n"
     ]
    }
   ],
   "source": [
    "items=int(input('enter total nummber of items'))\n",
    "amount = int(input('enter the price of item'))  \n",
    "if items>5:\n",
    "    discount = amount*0.15\n",
    "    print(f'the total price is {amount-discount}')\n",
    "else:\n",
    "    print(amount)"
   ]
  },
  {
   "cell_type": "code",
   "execution_count": 3,
   "id": "fbe6e11a-dfd5-49b7-9ff6-f54979b86ce2",
   "metadata": {},
   "outputs": [
    {
     "name": "stdin",
     "output_type": "stream",
     "text": [
      "you are a member answer Y/N: y\n"
     ]
    },
    {
     "name": "stdout",
     "output_type": "stream",
     "text": [
      "the total is 16000.0\n"
     ]
    }
   ],
   "source": [
    "is_member = input('you are a member answer Y/N:').lower()\n",
    "product = 20000\n",
    "\n",
    "if is_member == 'y':\n",
    "    discount = product * 0.20\n",
    "    print(f\"the total is {product-discount}\")\n",
    "elif is_member =='n':\n",
    "    discount2 = product * 0.5\n",
    "    print(f\"the total price is {product-discount2}\")\n",
    "else:\n",
    "    print(\"Invalid input. please enter y or no\")"
   ]
  },
  {
   "cell_type": "code",
   "execution_count": 4,
   "id": "c75f061e-2415-4aaf-b83c-1aa71eed4997",
   "metadata": {},
   "outputs": [
    {
     "name": "stdin",
     "output_type": "stream",
     "text": [
      "You are a member? Answer Y/N:  y\n",
      "enter your shoppig amount 200\n"
     ]
    },
    {
     "name": "stdout",
     "output_type": "stream",
     "text": [
      "The total price is 160.0\n"
     ]
    }
   ],
   "source": [
    "is_member = input('You are a member? Answer Y/N: ').lower()\n",
    "product = int(input('enter your shoppig amount'))\n",
    "\n",
    "if is_member == 'y':\n",
    "    discount = product * 0.20\n",
    "    print(f\"The total price is {product - discount}\")\n",
    "elif is_member == 'n':\n",
    "    discount2 = product * 0.5\n",
    "    print(f\"The total price is {product - discount2}\")\n",
    "else:\n",
    "    print(\"Invalid input. Please enter Y or N.\")\n"
   ]
  },
  {
   "cell_type": "code",
   "execution_count": 6,
   "id": "8b16baa1-7952-40b8-bc4f-770888cb0287",
   "metadata": {},
   "outputs": [
    {
     "ename": "SyntaxError",
     "evalue": "invalid syntax (4027446434.py, line 1)",
     "output_type": "error",
     "traceback": [
      "\u001b[1;36m  Cell \u001b[1;32mIn[6], line 1\u001b[1;36m\u001b[0m\n\u001b[1;33m    lst = [\"monday\", \"tuesday\" , \"wednesday\", \"thusday\" , \"friday\", 'holiday':{'saturday','sunday'}]\u001b[0m\n\u001b[1;37m                                                                             ^\u001b[0m\n\u001b[1;31mSyntaxError\u001b[0m\u001b[1;31m:\u001b[0m invalid syntax\n"
     ]
    }
   ],
   "source": [
    "lst = [\"monday\", \"tuesday\" , \"wednesday\", \"thusday\" , \"friday\", 'holiday':{'saturday','sunday'}]\n",
    "student = input(\"Enter the name of day\")\n",
    "price = int(input('enter the price'))\n",
    "if student == list[5]['holiday']:\n",
    "    discount = price*0.25\n",
    "    print(f'the total price is{price-discount}')\n",
    "elif student != list[5]['holiday']:\n",
    "    discount = price*0.10\n",
    "    print(f'the total price is{price-discount}')"
   ]
  },
  {
   "cell_type": "code",
   "execution_count": 8,
   "id": "a9f2d788-20ba-4de2-baab-a57fcf0a150d",
   "metadata": {},
   "outputs": [
    {
     "name": "stdin",
     "output_type": "stream",
     "text": [
      "Enter the name of the day:  monday\n",
      "Enter the price:  200\n"
     ]
    },
    {
     "name": "stdout",
     "output_type": "stream",
     "text": [
      "The total price is 180.0\n"
     ]
    }
   ],
   "source": [
    "# List of weekdays and dictionary for holidays\n",
    "lst = [\"monday\", \"tuesday\", \"wednesday\", \"thursday\", \"friday\"]\n",
    "holidays = {'saturday','sunday'}\n",
    "\n",
    "# User input\n",
    "student = input(\"Enter the name of the day: \").lower()  # Convert input to lowercase for consistency\n",
    "price = int(input('Enter the price: '))\n",
    "\n",
    "# Check if the entered day is a holiday\n",
    "if student in holidays:\n",
    "    discount = price * 0.25\n",
    "    print(f\"The total price is {price - discount}\")\n",
    "else:\n",
    "    discount = price * 0.10\n",
    "    print(f\"The total price is {price - discount}\")\n"
   ]
  },
  {
   "cell_type": "code",
   "execution_count": 10,
   "id": "33ecbe37-7ce8-4c6a-b580-b1f3ac74d9d8",
   "metadata": {},
   "outputs": [
    {
     "name": "stdin",
     "output_type": "stream",
     "text": [
      "Enter the price of the item: $ 200\n"
     ]
    },
    {
     "name": "stdout",
     "output_type": "stream",
     "text": [
      "Standard tax applied (8%). Total price: $184.00\n"
     ]
    }
   ],
   "source": [
    "# Input: Price of the item\n",
    "price = float(input(\"Enter the price of the item: $\"))\n",
    "\n",
    "# Tax calculation\n",
    "if price > 500:\n",
    "    tax = price * 0.15  # Luxury tax of 15%\n",
    "    total_price = price - tax\n",
    "    print(f\"Luxury tax applied (15%). Total price: ${total_price:.2f}\")\n",
    "else:\n",
    "    tax = price * 0.08  # Standard tax of 8%\n",
    "    total_price = price - tax\n",
    "    print(f\"Standard tax applied (8%). Total price: ${total_price:.2f}\")\n",
    "\n",
    "    "
   ]
  },
  {
   "cell_type": "code",
   "execution_count": 12,
   "id": "ec49e08f-8bf3-4307-a2b8-74bd4c087fc4",
   "metadata": {},
   "outputs": [
    {
     "name": "stdout",
     "output_type": "stream",
     "text": [
      "Available products:\n",
      "Mobile - $300\n",
      "Cable - $20\n",
      "Fridge - $600\n",
      "Laptop - $800\n",
      "Headphones - $50\n",
      "Watch - $150\n"
     ]
    },
    {
     "name": "stdin",
     "output_type": "stream",
     "text": [
      "Enter the product you want to buy (or 'done' to finish):  mobile\n"
     ]
    },
    {
     "name": "stdout",
     "output_type": "stream",
     "text": [
      "Mobile added to cart. Price: $300\n"
     ]
    },
    {
     "name": "stdin",
     "output_type": "stream",
     "text": [
      "Enter the product you want to buy (or 'done' to finish):  done\n"
     ]
    },
    {
     "name": "stdout",
     "output_type": "stream",
     "text": [
      "\n",
      "Total price before discount: $300\n",
      "Standard discount applied (8%). Discount: $24.00\n",
      "Total price after discount: $276.00\n"
     ]
    }
   ],
   "source": [
    "def calculate_total():\n",
    "    \n",
    "    products = {\n",
    "        \"mobile\": 300,\n",
    "        \"cable\": 20,\n",
    "        \"fridge\": 600,\n",
    "        \"laptop\": 800,\n",
    "        \"headphones\": 50,\n",
    "        \"watch\": 150\n",
    "    }\n",
    "\n",
    "   \n",
    "    print(\"Available products:\")\n",
    "    for product, price in products.items():\n",
    "        print(f\"{product.capitalize()} - ${price}\")\n",
    "\n",
    "    \n",
    "    total_price = 0\n",
    "\n",
    "    while True:\n",
    "        product_name = input(\"Enter the product you want to buy (or 'done' to finish): \").lower()\n",
    "        \n",
    "        if product_name == 'done':\n",
    "            break\n",
    "        if product_name in products:\n",
    "            total_price += products[product_name]\n",
    "            print(f\"{product_name.capitalize()} added to cart. Price: ${products[product_name]}\")\n",
    "        else:\n",
    "            print(f\"Sorry, {product_name} is not available.\")\n",
    "    \n",
    "    print(f\"\\nTotal price before discount: ${total_price}\")\n",
    "    \n",
    "    if total_price > 500:\n",
    "        discount = total_price * 0.15  \n",
    "        total_price_after_discount = total_price - discount\n",
    "        print(f\"Luxury discount applied (15%). Discount: ${discount:.2f}\")\n",
    "    else:\n",
    "        discount = total_price * 0.08  \n",
    "        total_price_after_discount = total_price - discount\n",
    "        print(f\"Standard discount applied (8%). Discount: ${discount:.2f}\")\n",
    "    \n",
    "    print(f\"Total price after discount: ${total_price_after_discount:.2f}\")\n",
    "\n",
    "calculate_total()\n"
   ]
  },
  {
   "cell_type": "markdown",
   "id": "1c0c16bf",
   "metadata": {},
   "source": [
    " If a person's annual income is above $50,000, they pay 20% tax. Otherwise, they pay 10%. Calculate and display the tax amount."
   ]
  },
  {
   "cell_type": "code",
   "execution_count": null,
   "id": "abc39c1a-387a-4655-9f38-1b527c2793a6",
   "metadata": {},
   "outputs": [],
   "source": [
    "income = int(input('enter your monthly income'))\n",
    "if income>50000:\n",
    "    tax = income*0.20\n",
    "    print(f'the total income is {tax-income}')\n",
    "    print(f'the total tax is { tax}')\n",
    "elif income<50000:\n",
    "     tax1 = income*0.10\n",
    "     print(f'the total income is {tax1-income}')\n",
    "     print(f'the total tax is { tax1}')"
   ]
  },
  {
   "cell_type": "markdown",
   "id": "3911515b",
   "metadata": {},
   "source": [
    "Write a program to categorize a person into tax brackets:\n",
    "Income < $30,000: \"Low Tax\"\n",
    "$30,000 ≤ Income < $100,000: \"Medium Tax\"\n",
    "Income ≥ $100,000: \"High Tax\"\n"
   ]
  },
  {
   "cell_type": "code",
   "execution_count": 48,
   "id": "9ea11f6b-7895-4ae8-a42d-bbfd1cdbce79",
   "metadata": {},
   "outputs": [
    {
     "name": "stdin",
     "output_type": "stream",
     "text": [
      "enter your monthly income 130000\n"
     ]
    },
    {
     "name": "stdout",
     "output_type": "stream",
     "text": [
      "your monthly income is 91000.0\n",
      "your total tax is 39000.0\n"
     ]
    }
   ],
   "source": [
    "incomes = int(input('enter your monthly income'))\n",
    "if incomes<30000:\n",
    "    taxes = incomes*0.10\n",
    "    print(f'your monthly income is {incomes - taxes}')\n",
    "    print(f'your total tax is {taxes}')\n",
    "elif incomes<100000:\n",
    "    taxes1 = incomes*0.20\n",
    "    print(f'your monthly income is {incomes - taxes1}')\n",
    "    print(f'your total tax is {taxes1}')\n",
    "elif incomes>100000:\n",
    "    taxes2 = incomes*0.30\n",
    "    print(f'your monthly income is {incomes - taxes2}')\n",
    "    print(f'your total tax is {taxes2}')    "
   ]
  },
  {
   "cell_type": "markdown",
   "id": "5a2f5196",
   "metadata": {},
   "source": [
    " VAT Calculation\n",
    " If the item is marked as essential (is_essential = True), apply a VAT of 5%. Otherwise, apply a VAT of 12%. Display the final price.\n"
   ]
  },
  {
   "cell_type": "markdown",
   "id": "47c37dcc",
   "metadata": {},
   "source": [
    " Tax-Free Day\n",
    " If today is a tax-free day (tax_free = True), display the original price. Otherwise, add a 7% tax.\n",
    "\n"
   ]
  },
  {
   "cell_type": "code",
   "execution_count": 68,
   "id": "a62bb923-86af-445c-8127-1f54be8048bf",
   "metadata": {},
   "outputs": [
    {
     "name": "stdin",
     "output_type": "stream",
     "text": [
      "enter your salary 70000\n",
      "today is tax free day answer (y/n) n\n"
     ]
    },
    {
     "name": "stdout",
     "output_type": "stream",
     "text": [
      "your salary amount after tax 65100\n",
      "your total tax is 4900\n"
     ]
    }
   ],
   "source": [
    "shop = int(input('enter your salary'))\n",
    "tax_free = input('today is tax free day answer (y/n)').lower()\n",
    "if tax_free=='y':\n",
    "    print(f'your total shopping amount is {shop}')\n",
    "elif tax_free=='n':\n",
    "    Tax = int(shop*0.07)\n",
    "    print(f'your salary amount after tax {int(shop-Tax)}')\n",
    "    print(f'your total tax is {Tax}')"
   ]
  },
  {
   "cell_type": "markdown",
   "id": "003a3078",
   "metadata": {},
   "source": [
    " Shopping and Billing\n",
    " Free Shipping\n",
    " If the total purchase amount is more than 50 dollar offer free shipping; otherwise, charge 5 dollar for shipping. Display the total amount including shipping.\n",
    "\n"
   ]
  },
  {
   "cell_type": "code",
   "execution_count": 80,
   "id": "dfaa8ed4-1985-49ae-a40f-45273c784746",
   "metadata": {},
   "outputs": [
    {
     "name": "stdin",
     "output_type": "stream",
     "text": [
      "enter the total price you shopping 60\n"
     ]
    },
    {
     "name": "stdout",
     "output_type": "stream",
     "text": [
      "your total shopping price is 60\n"
     ]
    }
   ],
   "source": [
    "purchases = int(input('enter the total price you shopping'))\n",
    "if purchases>50:\n",
    "    print(f'your total shopping price is {purchases}')\n",
    "elif purchases<50:\n",
    "    shipping = purchases+5\n",
    "    print(f'your shopping price is {purchases} and adding after shipping price your total amount is {shipping}')"
   ]
  },
  {
   "cell_type": "markdown",
   "id": "8fa7d474",
   "metadata": {},
   "source": [
    " Discount Code\n",
    " If a customer enters the correct discount code (DISCOUNT10), apply a 10% discount. Otherwise, charge the full amount.\n"
   ]
  },
  {
   "cell_type": "code",
   "execution_count": 88,
   "id": "a4fe0dff-bb59-4ca3-aee9-a4f9dab5e386",
   "metadata": {},
   "outputs": [
    {
     "name": "stdin",
     "output_type": "stream",
     "text": [
      "Enter the amount 200\n",
      "Enter the code ball\n"
     ]
    },
    {
     "name": "stdout",
     "output_type": "stream",
     "text": [
      "your input incorect your total bill is 200\n"
     ]
    }
   ],
   "source": [
    "code_discount = int(input(\"Enter the amount\"))\n",
    "customer = input(\"Enter the code\")\n",
    "if customer == \"discount10\":\n",
    "    discount = code_discount*0.10\n",
    "    print(f\"your total discount {code_discount-discount}\")\n",
    "elif customer != \"discount10\":\n",
    "    print(f\"your input incorect your total bill is {code_discount}\")\n"
   ]
  },
  {
   "cell_type": "markdown",
   "id": "5568a018",
   "metadata": {},
   "source": [
    " Tiered Discounts\n",
    "Apply discounts based on the total price:`\n",
    "$0–$50: No discount.\n",
    "$50–$100: 10% discount.\n",
    "Over $100: 20% discount.\n"
   ]
  },
  {
   "cell_type": "code",
   "execution_count": 112,
   "id": "794601d1-1e5e-4954-9504-a830859160c7",
   "metadata": {},
   "outputs": [
    {
     "name": "stdin",
     "output_type": "stream",
     "text": [
      "Enter the price 110\n"
     ]
    },
    {
     "name": "stdout",
     "output_type": "stream",
     "text": [
      "your total over prices -88.0\n"
     ]
    }
   ],
   "source": [
    "client = int(input(\"Enter the price\"))\n",
    "if client<50:\n",
    "    print(f\"NO discoun {client}\")\n",
    "elif client>50 and client <100:   \n",
    "    discount = client*0.10\n",
    "    print(f\"your total price is {discount-client}\")\n",
    "elif client>100:\n",
    "    discount1 = client*0.20\n",
    "    print(f\"your total over prices {discount1-client}\")\n",
    "    "
   ]
  },
  {
   "cell_type": "markdown",
   "id": "f0b51b23",
   "metadata": {},
   "source": [
    " If the total amount is less than $20, display a message: \"Minimum purchase of $20 is required.\" Otherwise, display the total amount.\n"
   ]
  },
  {
   "cell_type": "code",
   "execution_count": 117,
   "id": "6612df90-4e41-44fb-9fe5-400dc049d701",
   "metadata": {},
   "outputs": [
    {
     "name": "stdin",
     "output_type": "stream",
     "text": [
      "Enter the amount you want 30\n"
     ]
    },
    {
     "name": "stdout",
     "output_type": "stream",
     "text": [
      "your total is 30\n"
     ]
    }
   ],
   "source": [
    "amount = int(input(\"Enter the amount you want\"))\n",
    "if amount<20:\n",
    "    print(\"sorry your amunt is less than 20\")\n",
    "elif amount>20:\n",
    "    print(f\"your total is {amount}\")\n",
    "    "
   ]
  },
  {
   "cell_type": "markdown",
   "id": "a1fee72e",
   "metadata": {},
   "source": [
    " If a customer is a loyal member (is_loyal = True), they earn double loyalty points for their purchase. Otherwise, they earn standard points"
   ]
  },
  {
   "cell_type": "code",
   "execution_count": 126,
   "id": "e7a939f0-e5be-485b-8d3b-44e90ae1e728",
   "metadata": {},
   "outputs": [
    {
     "name": "stdin",
     "output_type": "stream",
     "text": [
      "Enter the loyality points 20\n",
      "you are loyal answer y/n n\n"
     ]
    },
    {
     "name": "stdout",
     "output_type": "stream",
     "text": [
      "your points 20 because you are not loyal you are loyal so your point is double\n"
     ]
    }
   ],
   "source": [
    "is_loyal = int(input(\"Enter the loyality points\"))\n",
    "loyal = is_loyal\n",
    "you_loyal = input('you are loyal answer y/n').lower()\n",
    "if you_loyal == 'y':\n",
    "    print(f'your points {is_loyal} and you are loyal so your points is double {is_loyal+loyal}')\n",
    "elif you_loyal == 'n':\n",
    "    print(f'your points {is_loyal} because you are not loyal you are loyal so your point is double')\n",
    "    "
   ]
  },
  {
   "cell_type": "markdown",
   "id": "5070a4d1",
   "metadata": {},
   "source": [
    "Travel Discount\n",
    "If a person is traveling more than 500 miles, offer a 20% discount on ticket price. Otherwise, charge the full amount.\n"
   ]
  },
  {
   "cell_type": "code",
   "execution_count": 7,
   "id": "a200856b-1208-40b5-b9e4-8035a9242892",
   "metadata": {},
   "outputs": [
    {
     "name": "stdin",
     "output_type": "stream",
     "text": [
      "enter the ticket price you traveling 1000\n",
      "enter the miles you travaling 300\n"
     ]
    },
    {
     "name": "stdout",
     "output_type": "stream",
     "text": [
      "sorry you have no discount 1000\n"
     ]
    }
   ],
   "source": [
    "ticket = int(input('enter the ticket price you traveling'))\n",
    "miles = int(input('enter the miles you travaling'))\n",
    "if miles>500:\n",
    "    discount = ticket*0.20\n",
    "    print(f'your ticket price is {ticket - discount} ')\n",
    "elif miles<500:\n",
    "    print(f'sorry you have no discount {ticket}')"
   ]
  },
  {
   "cell_type": "markdown",
   "id": "35bcfed7",
   "metadata": {},
   "source": [
    " Child or Senior Discount\n",
    " If a passenger is under 12 or over 60 years old, apply a 15% discount on the ticket price. Otherwise, charge the full price.\n"
   ]
  },
  {
   "cell_type": "code",
   "execution_count": 22,
   "id": "12b3d764-d3fc-462c-ba12-cdfb9503579c",
   "metadata": {},
   "outputs": [
    {
     "name": "stdin",
     "output_type": "stream",
     "text": [
      "enter your age 40\n",
      "enter the ticket price 500\n"
     ]
    },
    {
     "name": "stdout",
     "output_type": "stream",
     "text": [
      "sorry you have no discount 500\n"
     ]
    }
   ],
   "source": [
    "age = int(input('enter your age'))\n",
    "ticket_price = int(input('enter the ticket price'))\n",
    "if age>60 or age<=12:\n",
    "    discount = ticket_price*0.15\n",
    "    print(f'your ticket price is {ticket_price - discount}')\n",
    "else:    \n",
    "    print(f'sorry you have no discount {ticket_price}')"
   ]
  },
  {
   "cell_type": "markdown",
   "id": "2fd35d14",
   "metadata": {},
   "source": [
    " Ticket Type Pricing\n",
    " If the ticket is for a weekend (is_weekend = True), add a 10% surcharge. Otherwise, charge the standard price.\n",
    "\n"
   ]
  },
  {
   "cell_type": "code",
   "execution_count": 37,
   "id": "64ef4902-8d9a-48f1-a4cc-97fda06d732a",
   "metadata": {},
   "outputs": [
    {
     "name": "stdin",
     "output_type": "stream",
     "text": [
      "enter the day Saturday\n",
      "enter the ticket price 300\n"
     ]
    },
    {
     "name": "stdout",
     "output_type": "stream",
     "text": [
      "sorry you enter invalid input only use samll alphaphet\n"
     ]
    }
   ],
   "source": [
    "week_end = ['saturday','sunday']\n",
    "week_day = ['monday','tuesday','wednesday','thursday','friday']\n",
    "day = input('enter the day')\n",
    "ticket = int(input('enter the ticket price'))\n",
    "if day in week_end:\n",
    "    discount = ticket*0.10\n",
    "    print(f'your ticket price with discount {ticket - discount}')\n",
    "elif day in week_day:\n",
    "    print(f'your ticket price without discount {ticket}')\n",
    "else:\n",
    "    print('sorry you enter invalid input only use samll alphaphet')"
   ]
  },
  {
   "cell_type": "markdown",
   "id": "56ae47d7",
   "metadata": {},
   "source": [
    " Baggage Fee\n",
    " If the total baggage weight is over 20kg, charge $10 per extra kilogram. Otherwise, no extra fee"
   ]
  },
  {
   "cell_type": "code",
   "execution_count": null,
   "id": "8d159074-06ea-468d-a44c-6ccb239a1840",
   "metadata": {},
   "outputs": [],
   "source": []
  },
  {
   "cell_type": "markdown",
   "id": "57c9de0a",
   "metadata": {},
   "source": [
    " If a ticket is booked more than 30 days in advance, apply a 10% discount. Otherwise, charge the full price."
   ]
  },
  {
   "cell_type": "code",
   "execution_count": 68,
   "id": "26029d73-cfd3-4fa9-86ed-5b7531da933c",
   "metadata": {},
   "outputs": [
    {
     "name": "stdin",
     "output_type": "stream",
     "text": [
      "Ap ne kis date ko ticket book ki thi (format: YYYY-MM-DD):  2024-11-28\n",
      "Ticket ki kitni keemat thi (in rupees):  400\n"
     ]
    },
    {
     "name": "stdout",
     "output_type": "stream",
     "text": [
      "Ticket booked 0 days ago. No discount applied.\n",
      "Final price: 400.0 rupees\n"
     ]
    }
   ],
   "source": [
    "booking_date_input = input(\"Ap ne kis date ko ticket book ki thi (format: YYYY-MM-DD): \")\n",
    "ticket_price = float(input(\"Ticket ki kitni keemat thi (in rupees): \"))\n",
    "\n",
    "try:\n",
    "    booking_date = datetime.strptime(booking_date_input, '%Y-%m-%d')\n",
    "except ValueError:\n",
    "    print(\"Invalid date format. Please enter in YYYY-MM-DD format.\")\n",
    "        \n",
    "      \n",
    "today_date = datetime.today()\n",
    "days_in_advance = (today_date - booking_date).days\n",
    "if days_in_advance > 30:\n",
    "    discounted_price = ticket_price * 0.90  # 10% discount\n",
    "    print(f\"Ticket booked {days_in_advance} days in advance.\")\n",
    "    print(f\"Discount applied: 10%\")\n",
    "    print(f\"Final price after discount: {discounted_price} rupees\")\n",
    "else:\n",
    "    print(f\"Ticket booked {days_in_advance} days ago. No discount applied.\")\n",
    "    print(f\"Final price: {ticket_price} rupees\")\n"
   ]
  },
  {
   "cell_type": "markdown",
   "id": "a222c40b",
   "metadata": {},
   "source": [
    " 1Pass or Fail\n",
    " If a student scores 40 or more, print \"Pass\". Otherwise, print \"Fail\".\n"
   ]
  },
  {
   "cell_type": "code",
   "execution_count": 84,
   "id": "65e0c83d-5ca2-408a-bd45-99e0acfecb40",
   "metadata": {},
   "outputs": [
    {
     "name": "stdin",
     "output_type": "stream",
     "text": [
      "Enter the score point 50\n"
     ]
    },
    {
     "name": "stdout",
     "output_type": "stream",
     "text": [
      "pass\n"
     ]
    }
   ],
   "source": [
    "score_point = int(input(\"Enter the score point\"))\n",
    "if score_point >40:\n",
    "    print(\"pass\")\n",
    "elif score_point <40:\n",
    "    print(\"fail\")\n",
    "else:\n",
    "    print(f\"sorry invalid input {score_point}\")"
   ]
  },
  {
   "cell_type": "raw",
   "id": "35c34ef3",
   "metadata": {},
   "source": [
    "# Based on a student's score, assign grades:\n",
    "# 90 and above: \"A\"\n",
    "# 75–89: \"B\"\n",
    "# 50–74: \"C\"\n",
    "# Below 50: \"F"
   ]
  },
  {
   "cell_type": "code",
   "execution_count": 107,
   "id": "59f24231-b758-4f64-ae0a-85df17dd524f",
   "metadata": {},
   "outputs": [
    {
     "name": "stdin",
     "output_type": "stream",
     "text": [
      "Enter the marks: 73\n"
     ]
    },
    {
     "name": "stdout",
     "output_type": "stream",
     "text": [
      "C\n"
     ]
    }
   ],
   "source": [
    "marks = int(input(\"Enter the marks:\"))\n",
    "if marks>=90:\n",
    "    print(\"A\")\n",
    "elif marks<89 and marks>74:\n",
    "    print(\"B\")\n",
    "elif marks<74 and marks>50:\n",
    "    print(\"C\")\n",
    "elif marks<=50:\n",
    "    print(\"F\")\n",
    "else:\n",
    "    print(f\"sorry this is invalid input {marks}\")"
   ]
  },
  {
   "cell_type": "markdown",
   "id": "803e7990",
   "metadata": {},
   "source": [
    " Bonus Marks\n",
    " If a student completes all assignments, add 5 bonus marks to their score. Otherwise, no bonus marks.\n",
    "\n"
   ]
  },
  {
   "cell_type": "code",
   "execution_count": 132,
   "id": "38990df4-f039-4f6e-8bab-db463adb4860",
   "metadata": {},
   "outputs": [
    {
     "name": "stdin",
     "output_type": "stream",
     "text": [
      "Enter the complete assigment Y/N: n\n",
      "Enter the score  40\n"
     ]
    },
    {
     "name": "stdout",
     "output_type": "stream",
     "text": [
      "you are not complete assigment 40\n"
     ]
    }
   ],
   "source": [
    "assigment = input(\"Enter the complete assigment Y/N:\").lower()\n",
    "score = int(input(\"Enter the score \"))\n",
    "if assigment == \"y\":\n",
    "    print(f\"you are  complete assigment {score+5}\")\n",
    "elif assigment == \"n\":\n",
    "    print(f\"you are not complete assigment {score}\")"
   ]
  },
  {
   "cell_type": "markdown",
   "id": "7d8c6f35",
   "metadata": {},
   "source": [
    " 1If a student's attendance is 75% or more, they are eligible to take the exam. Otherwise, they are not."
   ]
  },
  {
   "cell_type": "code",
   "execution_count": 137,
   "id": "6e1d032e-7d10-4311-80f6-16692217af4c",
   "metadata": {},
   "outputs": [
    {
     "name": "stdin",
     "output_type": "stream",
     "text": [
      "Enter the correct attendance 78\n"
     ]
    },
    {
     "name": "stdout",
     "output_type": "stream",
     "text": [
      "you are eligible for exam\n"
     ]
    }
   ],
   "source": [
    "student = int(input(\"Enter the correct attendance\"))\n",
    "if student >75:\n",
    "    print(\"you are eligible for exam\")\n",
    "elif student <75:\n",
    "    print(\"you are not eligible for exam\")"
   ]
  },
  {
   "cell_type": "markdown",
   "id": "f1a6b43f",
   "metadata": {},
   "source": [
    " If a student's grade is \"A\" and their annual family income is below $30,000, they are eligible for a scholarship. Otherwise, they are not"
   ]
  },
  {
   "cell_type": "code",
   "execution_count": 152,
   "id": "c6a44421-1958-45f3-99dd-7a57126d9efc",
   "metadata": {},
   "outputs": [
    {
     "name": "stdin",
     "output_type": "stream",
     "text": [
      "enter your grade a\n",
      "enter your annual family income 20000\n"
     ]
    }
   ],
   "source": [
    "grade = input('enter your grade').lower()\n",
    "income = int(input('enter your annual family income'))\n",
    "if grade == 'a' and income>=30000:\n",
    "    print('you are eligible for scholarship')\n",
    "elif grade != 'a' and income<30000:\n",
    "    print('you are not eligable for scholarship')\n",
    "else:\n",
    "    print('your one criteria is completed but one is not ple')"
   ]
  },
  {
   "cell_type": "code",
   "execution_count": null,
   "id": "919a4283-c649-49a2-b2f7-64601598d724",
   "metadata": {},
   "outputs": [],
   "source": []
  }
 ],
 "metadata": {
  "kernelspec": {
   "display_name": "Python 3 (ipykernel)",
   "language": "python",
   "name": "python3"
  },
  "language_info": {
   "codemirror_mode": {
    "name": "ipython",
    "version": 3
   },
   "file_extension": ".py",
   "mimetype": "text/x-python",
   "name": "python",
   "nbconvert_exporter": "python",
   "pygments_lexer": "ipython3",
   "version": "3.11.5"
  }
 },
 "nbformat": 4,
 "nbformat_minor": 5
}
