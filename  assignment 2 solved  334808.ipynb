{
 "cells": [
  {
   "cell_type": "markdown",
   "id": "560b4955",
   "metadata": {},
   "source": [
    "2. Write a Python program that takes an age as input and determines whether a person\n",
    "is eligible to vote. If the age is 18 or above, print \"You are eligible to vote.\" Otherwise,\n",
    "print \"You are not eligible to vote yet.\"."
   ]
  },
  {
   "cell_type": "code",
   "execution_count": 1,
   "id": "1a3d5df8",
   "metadata": {},
   "outputs": [
    {
     "name": "stdout",
     "output_type": "stream",
     "text": [
      "enter your age24\n",
      "You are eligible to vote.\n"
     ]
    }
   ],
   "source": [
    "age=int(input(\"enter your age\"))\n",
    "if age>18:\n",
    "    print(\"You are eligible to vote.\")\n",
    "else:\n",
    "    print(\"You are not eligible to vote yet.\")"
   ]
  },
  {
   "cell_type": "markdown",
   "id": "f30db6cb",
   "metadata": {},
   "source": [
    "3. Write a program that prompts the user to input two integers and outputs the largest. \n"
   ]
  },
  {
   "cell_type": "code",
   "execution_count": 3,
   "id": "9a5fd815",
   "metadata": {},
   "outputs": [
    {
     "name": "stdout",
     "output_type": "stream",
     "text": [
      "enter a num  number7\n",
      "enter a num  number13\n",
      "13 is largest\n"
     ]
    }
   ],
   "source": [
    "a=int(input(\"enter a num  number\"))\n",
    "b=int(input(\"enter a num  number\"))\n",
    "if a>b:\n",
    "    print(f\"{a} is largest\")\n",
    "else:\n",
    "    print(f\"{b} is largest\")\n",
    "     "
   ]
  },
  {
   "cell_type": "markdown",
   "id": "cbe98add",
   "metadata": {},
   "source": [
    "4. Write a program that prompts the user to enter a number and determines whether it\n",
    "is positive, negative, or zero. The program should print \"Positive\" if the number is\n",
    "greater than 0, \"Negative\" if the number is less than 0, and \"Zero\" if the number is 0. \n"
   ]
  },
  {
   "cell_type": "code",
   "execution_count": 6,
   "id": "6a318d50",
   "metadata": {},
   "outputs": [
    {
     "name": "stdout",
     "output_type": "stream",
     "text": [
      "enter any number0\n",
      "Zero\n"
     ]
    }
   ],
   "source": [
    "num=int(input(\"enter any number\"))\n",
    "if num<0:\n",
    "    print('negative')\n",
    "elif num==0:\n",
    "    print(\"Zero\")\n",
    "else:\n",
    "    print(\"positive\")"
   ]
  },
  {
   "cell_type": "markdown",
   "id": "5612a8e8",
   "metadata": {},
   "source": [
    "6. Write a program that prompts the user to input a number from 1 to 7. The program\n",
    "should display the corresponding day for the given number. For example, if the user\n",
    "types 1, the output should be Sunday. If the user types 7, the output should be\n",
    "Saturday. If the number is not between 1 to 7 user should get error message as shown\n",
    "in sample output."
   ]
  },
  {
   "cell_type": "code",
   "execution_count": 10,
   "id": "156ffa51",
   "metadata": {},
   "outputs": [
    {
     "name": "stdout",
     "output_type": "stream",
     "text": [
      "enter any number4\n",
      "wednesday\n"
     ]
    }
   ],
   "source": [
    "number=int(input(\"enter any number\"))\n",
    "if number==2:\n",
    "    print(\"monday\")\n",
    "elif number==3:\n",
    "    print(\"tuesday\")\n",
    "elif number==4:\n",
    "    print(\"wednesday\")\n",
    "elif number==5:\n",
    "    print(\"thursday\")\n",
    "elif number==6:\n",
    "    print(\"friday\")\n",
    "elif number==7:\n",
    "    print(\"saturday\")\n",
    "elif number==1:\n",
    "    print(\"sunday\")\n",
    "else:\n",
    "    print(\"invalid text error\")"
   ]
  },
  {
   "cell_type": "markdown",
   "id": "2a583e4c",
   "metadata": {},
   "source": [
    "7. Write a program that prompts the user to enter their weight (in kilograms) and height\n",
    "(in meters). The program should calculate the Body Mass Index (BMI) using the formula:\n",
    "BMI = weight / (height * height). The program should then classify the BMI into one of\n",
    "the following categories: "
   ]
  },
  {
   "cell_type": "code",
   "execution_count": 11,
   "id": "55e458a0",
   "metadata": {},
   "outputs": [
    {
     "name": "stdout",
     "output_type": "stream",
     "text": [
      "enter the weight in kgs76\n",
      "enter the height in meters5.9\n",
      "2.1832806664751505\n",
      "Obesity\n"
     ]
    }
   ],
   "source": [
    "weight=float(input(\"enter the weight in kgs\"))\n",
    "height=float(input(\"enter the height in meters\"))\n",
    "BMI = weight/(height**2)\n",
    "print(BMI)\n",
    "if BMI>18.5:\n",
    "    print(\"less weight\")\n",
    "elif BMI>18.5 and BMI<24.9:\n",
    "    print(\"normal weight\")\n",
    "elif BMI>25 and BMI<29.9:\n",
    "    print(\"over weight\")\n",
    "else:\n",
    "    print(\"Obesity\")\n"
   ]
  },
  {
   "cell_type": "code",
   "execution_count": null,
   "id": "eb706be2",
   "metadata": {},
   "outputs": [],
   "source": []
  }
 ],
 "metadata": {
  "kernelspec": {
   "display_name": "Python 3 (ipykernel)",
   "language": "python",
   "name": "python3"
  },
  "language_info": {
   "codemirror_mode": {
    "name": "ipython",
    "version": 3
   },
   "file_extension": ".py",
   "mimetype": "text/x-python",
   "name": "python",
   "nbconvert_exporter": "python",
   "pygments_lexer": "ipython3",
   "version": "3.11.5"
  }
 },
 "nbformat": 4,
 "nbformat_minor": 5
}
