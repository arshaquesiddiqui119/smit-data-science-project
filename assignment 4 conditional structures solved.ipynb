{
 "cells": [
  {
   "cell_type": "markdown",
   "id": "561aab04",
   "metadata": {},
   "source": [
    "5. Write a program that prompts the user to enter their age and prints the\n",
    "corresponding age group. The program should use the following age groups:\n",
    "0-12: Child\n",
    "13-19: Teenager\n",
    "20-59: Adult\n",
    "60 and above: Senior Citizen \n"
   ]
  },
  {
   "cell_type": "code",
   "execution_count": 6,
   "id": "b832a6b5",
   "metadata": {},
   "outputs": [
    {
     "name": "stdout",
     "output_type": "stream",
     "text": [
      "enter your age66\n",
      "senior citizen\n"
     ]
    }
   ],
   "source": [
    "age=int(input(\"enter your age\"))\n",
    "age_group=0\n",
    "if age>0 and age<12:\n",
    "    age_group=\"child\"\n",
    "elif age>=13 and age<=19:\n",
    "    age_group=\"teenage\"\n",
    "elif age>=20 and age<=50:\n",
    "    age_group=\"adult\"\n",
    "else:\n",
    "    age_group=\"senior citizen\"\n",
    "print(age_group)\n"
   ]
  },
  {
   "cell_type": "markdown",
   "id": "e1ff348d",
   "metadata": {},
   "source": [
    "Write a program that prompts the user to input the value of a (the coefficient of x2\n",
    "), b\n",
    "(the coefficient of x), and c (the constant term) and outputs the roots of the quadratic\n",
    "equation.\n"
   ]
  },
  {
   "cell_type": "code",
   "execution_count": 9,
   "id": "3f298f29",
   "metadata": {},
   "outputs": [
    {
     "name": "stdout",
     "output_type": "stream",
     "text": [
      "enter the value of a 2\n",
      "enter the value of b4\n",
      "enter the value of c3\n",
      "-8.0  the equation has twocomplex roots.\n"
     ]
    }
   ],
   "source": [
    "a=float(input(\"enter the value of a \"))\n",
    "b=float(input(\"enter the value of b\"))\n",
    "c=float(input(\"enter the value of c\"))\n",
    "disc=(b*b)-4*a*c\n",
    "nature_of_roots=0\n",
    "if disc==0:\n",
    "    nature_of_roots=\"the equation has two equal roots.\"\n",
    "elif disc>0:\n",
    "    nature_of_roots=\" the equation has two real roots.\"\n",
    "else:\n",
    "    nature_of_roots=\" the equation has twocomplex roots.\"\n",
    "print(disc,nature_of_roots)"
   ]
  },
  {
   "cell_type": "markdown",
   "id": "ed3aad7c",
   "metadata": {},
   "source": [
    "10. Write a program that prompts the user to enter three numbers and sorts them in\n",
    "ascending order. The program should print the sorted numbers. "
   ]
  },
  {
   "cell_type": "code",
   "execution_count": 13,
   "id": "09701641",
   "metadata": {},
   "outputs": [
    {
     "name": "stdout",
     "output_type": "stream",
     "text": [
      "enter any number65\n",
      "enter any number32\n",
      "enter any number21\n",
      "[21, 32, 65]\n"
     ]
    }
   ],
   "source": [
    "num=[]\n",
    "num.append(int(input(\"enter any number\")))\n",
    "num.append(int(input(\"enter any number\")))\n",
    "num.append(int(input(\"enter any number\")))\n",
    "num.sort()\n",
    "print(num)"
   ]
  },
  {
   "cell_type": "markdown",
   "id": "7cfddc06",
   "metadata": {},
   "source": [
    "12. Write a program that prompts the user to input a character and determine the\n",
    "character is vowel or consonant"
   ]
  },
  {
   "cell_type": "code",
   "execution_count": 15,
   "id": "74a41095",
   "metadata": {},
   "outputs": [
    {
     "name": "stdout",
     "output_type": "stream",
     "text": [
      "enter any wordb\n",
      "consonant\n"
     ]
    }
   ],
   "source": [
    "word=input(\"enter any word \")\n",
    "vovels=[\"a\",\"e\",\"i\",\"0\",\"u\"]\n",
    "if word in vovels:\n",
    "    print(\"vovels\")\n",
    "else:\n",
    "    print(\"consonant\")\n"
   ]
  },
  {
   "cell_type": "markdown",
   "id": "57c2ac07",
   "metadata": {},
   "source": [
    "13. Write a program that prompts the user to input a year and determine whether the\n",
    "year is a leap year or not.\n",
    "Leap Years are any year that can be evenly divided by 4. A year that is evenly divisible by\n",
    "100 is a leap year only if it is also evenly divisible by 400. Example:\n",
    "1992 Leap Year\n",
    "2000 Leap Year\n",
    "1900 NOT a Leap Year\n",
    "1995 NOT a Leap Year \n"
   ]
  },
  {
   "cell_type": "code",
   "execution_count": 18,
   "id": "1c07e9ef",
   "metadata": {},
   "outputs": [
    {
     "name": "stdout",
     "output_type": "stream",
     "text": [
      "enter any year to find its a leap year or not2000\n",
      "its not a leap year\n"
     ]
    }
   ],
   "source": [
    "year=int(input(\"enter any year to find its a leap year or not\"))\n",
    "if year%4:\n",
    "    print(\"the year you entered is a leap year\")\n",
    "else:\n",
    "    print(\"its not a leap year\")"
   ]
  },
  {
   "cell_type": "markdown",
   "id": "77d0dfee",
   "metadata": {},
   "source": [
    "14. Write a program that prompts the user to input number of calls and calculate the\n",
    "monthly telephone bills as per the following rule:\n",
    "Minimum Rs. 200 for up to 100 calls.\n",
    "Plus Rs. 0.60 per call for next 50 calls.\n",
    "Plus Rs. 0.50 per call for next 50 calls.\n",
    "Plus Rs. 0.40 per call for any call beyond 200 calls."
   ]
  },
  {
   "cell_type": "code",
   "execution_count": 3,
   "id": "fa7fcf58",
   "metadata": {},
   "outputs": [
    {
     "name": "stdout",
     "output_type": "stream",
     "text": [
      "enter the number pof calls265\n",
      "your bill is 281.0\n"
     ]
    }
   ],
   "source": [
    "num_calls=int(input(\"enter the number pof calls\"))\n",
    "bill = 200\n",
    "if num_calls >=100:\n",
    "    extra_call = num_calls - 100\n",
    "    if extra_call <50:\n",
    "        bill += extra_call*0.6\n",
    "    else:\n",
    "        bill+=50*0.6\n",
    "        extra_call -=50\n",
    "        if extra_call<50:\n",
    "            bill += extra_call*0.5\n",
    "        else:\n",
    "            bill += 50*0.5\n",
    "            extra_call -= 50\n",
    "            bill+=extra_call*0.4\n",
    "print(F\"your bill is {bill}\")"
   ]
  },
  {
   "cell_type": "code",
   "execution_count": null,
   "id": "f3c7b201",
   "metadata": {},
   "outputs": [],
   "source": []
  }
 ],
 "metadata": {
  "kernelspec": {
   "display_name": "Python 3 (ipykernel)",
   "language": "python",
   "name": "python3"
  },
  "language_info": {
   "codemirror_mode": {
    "name": "ipython",
    "version": 3
   },
   "file_extension": ".py",
   "mimetype": "text/x-python",
   "name": "python",
   "nbconvert_exporter": "python",
   "pygments_lexer": "ipython3",
   "version": "3.11.5"
  }
 },
 "nbformat": 4,
 "nbformat_minor": 5
}
